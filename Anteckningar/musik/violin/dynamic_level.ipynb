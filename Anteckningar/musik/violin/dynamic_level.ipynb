{
 "cells": [
  {
   "attachments": {},
   "cell_type": "markdown",
   "metadata": {},
   "source": [
    "\n",
    "|distance from bridge (d)|speed (v)|pressure (p)|dynamic level|\n",
    "|---|---|---|---|\n",
    "|high|high |low |const|\n",
    "|low|low|high|const|\n",
    "\n",
    "Trying to find an equation for dynamic level f(d,v,p)\n"
   ]
  },
  {
   "cell_type": "code",
   "execution_count": null,
   "metadata": {},
   "outputs": [],
   "source": [
    "%matplotlib widget\n",
    "import matplotlib.pyplot as plt\n",
    "import numpy as np\n",
    "\n",
    "fig = plt.figure()\n",
    "ax = fig.add_subplot(111, projection='3d')\n",
    "ax.set_xlabel(r'$d$ distance from bridge')\n",
    "ax.set_ylabel(r'$v$ bow speed (across string)')\n",
    "ax.set_zlabel(r'$p$ bow (hair) pressure')\n",
    "\n",
    "d=[5,4,3,2,1]\n",
    "v=[9,7,5,3,1]\n",
    "p=[1,3,5,7,9]\n",
    "dl=[10,10,10,10,10]\n",
    "\n",
    "img = ax.scatter(d, v, p, c=dl, s=np.asarray(dl)*100, cmap=plt.hot())\n",
    "fig.colorbar(img)\n",
    "plt.show()\n"
   ]
  }
 ],
 "metadata": {
  "kernelspec": {
   "display_name": "Python 3",
   "language": "python",
   "name": "python3"
  },
  "language_info": {
   "codemirror_mode": {
    "name": "ipython",
    "version": 3
   },
   "file_extension": ".py",
   "mimetype": "text/x-python",
   "name": "python",
   "nbconvert_exporter": "python",
   "pygments_lexer": "ipython3",
   "version": "3.10.2"
  },
  "orig_nbformat": 4,
  "vscode": {
   "interpreter": {
    "hash": "83af3313e3b226ac4207f3acdf114576061a02095459be7ccb6759f8e5b5dec5"
   }
  }
 },
 "nbformat": 4,
 "nbformat_minor": 2
}
